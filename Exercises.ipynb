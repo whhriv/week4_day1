{
 "cells": [
  {
   "cell_type": "markdown",
   "metadata": {},
   "source": [
    "### Exercise 1"
   ]
  },
  {
   "cell_type": "code",
   "execution_count": 90,
   "metadata": {},
   "outputs": [],
   "source": [
    "import re\n"
   ]
  },
  {
   "cell_type": "markdown",
   "metadata": {},
   "source": [
    "Write a function that takes in a tweet and returns a list of the hashtags in the tweet<br>\n",
    "Ex. 1<br>\n",
    "tweet = \"Python is the best #Python #Programming #CodingTemple\"<br>\n",
    "Expected Output: [\"#Python\", \"#Programming\", \"#CodingTemple\"]<br>\n",
    "\n",
    "Ex. 2<br>\n",
    "tweet = \"I love my life! #blessed\"<br>\n",
    "Expected Output: [\"#bleesed\"]<br>\n",
    "\n",
    "Ex. 3<br>\n",
    "tweet = \"Bear Down\"<br>\n",
    "Expected Output: []<br>\n"
   ]
  },
  {
   "cell_type": "code",
   "execution_count": 16,
   "metadata": {},
   "outputs": [
    {
     "name": "stdout",
     "output_type": "stream",
     "text": [
      "['#Python', '#Programming', '#CodingTemple']\n"
     ]
    }
   ],
   "source": [
    "\n",
    "octothorp = re.compile(r'#\\w+')\n",
    "find_octo = octothorp.findall(str(tweet))\n",
    "print(find_octo)\n"
   ]
  },
  {
   "cell_type": "code",
   "execution_count": 20,
   "metadata": {},
   "outputs": [
    {
     "name": "stdout",
     "output_type": "stream",
     "text": [
      "#Python\n",
      "#Programming\n",
      "#CodingTemple\n"
     ]
    }
   ],
   "source": [
    "tweet = \"Python is the best #Python #Programming #CodingTemple\"\n",
    "octothorp = re.compile(r'#\\w+')\n",
    "def tweet_return(tweets):\n",
    "    \n",
    "    for name in octothorp.findall(str(tweet)):\n",
    "        print(name)\n",
    "tweet_return(tweet)                        "
   ]
  },
  {
   "cell_type": "markdown",
   "metadata": {},
   "source": [
    "### Exercise 2"
   ]
  },
  {
   "cell_type": "markdown",
   "metadata": {},
   "source": [
    "Write a function that takes in a string and returns it is a Strong password or not. A strong password is at least 8 characters, contains at least one uppercase letter, one lowercase letter, one digit, and one special character (!@#$%^&*)<br>\n",
    "Ex. 1 <br>\n",
    "password = \"CodingTemple123!\"<br>\n",
    "Expected Output: True<br>\n",
    "\n",
    "Ex. 2 <br>\n",
    "password = \"password\"<br>\n",
    "Expected Output: False<br>\n",
    "\n",
    "Ex. 3 <br>\n",
    "password = \"@Bc12\"<br>\n",
    "Expected Output: False<br>"
   ]
  },
  {
   "cell_type": "code",
   "execution_count": 89,
   "metadata": {
    "scrolled": true
   },
   "outputs": [
    {
     "data": {
      "text/plain": [
       "True"
      ]
     },
     "execution_count": 89,
     "metadata": {},
     "output_type": "execute_result"
    }
   ],
   "source": [
    "password = \"CodingTemple123!\"\n",
    "pass_check = re.compile(r'w+[!@#$%^&*]{8,}')\n",
    "\n",
    "\n",
    "def password_checker(password):\n",
    "    \n",
    "    if pass_check.search(str(password)) == None:\n",
    "        return True\n",
    "    else:\n",
    "        return False\n",
    "password_checker(password)\n",
    "        \n",
    "\n"
   ]
  },
  {
   "cell_type": "markdown",
   "metadata": {},
   "source": [
    "### Exercise 3"
   ]
  },
  {
   "cell_type": "markdown",
   "metadata": {},
   "source": [
    "Using the Python `open()` function, read in the `example.txt` file (attached in Google Classroom, make sure it is in the same folder as this notebook). Create a pattern that will find all of the dates in the text. Dates are in the format of YYYY-MM-DD. The pattern should have groups for year, month, and day. Using the `.finditer()` method, iterate over the dates and print in format of month/day/year<br>"
   ]
  },
  {
   "cell_type": "markdown",
   "metadata": {},
   "source": [
    "Output:\n",
    "```\n",
    "05/15/1990\n",
    "09/20/2015\n",
    "12/03/1985\n",
    "06/18/2010\n",
    "11/30/2002\n",
    "08/10/1978\n",
    "04/25/1992\n",
    "07/07/2019\n",
    "02/12/1980\n",
    "03/22/2005\n",
    "```"
   ]
  },
  {
   "cell_type": "code",
   "execution_count": 146,
   "metadata": {},
   "outputs": [],
   "source": [
    "import re\n",
    "\n",
    "#from datetime import datetime"
   ]
  },
  {
   "cell_type": "code",
   "execution_count": 166,
   "metadata": {},
   "outputs": [
    {
     "data": {
      "text/plain": [
       "\"Daniel Martinez was born on 1990-05-15. He later married Elizabeth Anderson on 2015-09-20.\\n\\nAlice Johnson's birthdate is 1985-12-03, and she got her degree on 2010-06-18.\\n\\nMichael Brown's graduation date is 2002-11-30. He celebrated his birthday on 1978-08-10.\\n\\nEmily Wilson was born on 1992-04-25. She completed her Ph.D. on 2019-07-07.\\n\\nSarah Clark's birthdate is 1980-02-12. She joined the company on 2005-03-22.\\n\""
      ]
     },
     "execution_count": 166,
     "metadata": {},
     "output_type": "execute_result"
    }
   ],
   "source": [
    "with open('example.txt') as new_file:\n",
    "        \n",
    "    date_list = new_file.read()\n",
    "    \n",
    "    \n",
    "    #print to list(newfile.readlines()? NO - string newfile.read()\n",
    "# #         date_pattern = date_list.compile(r'\\d+')\n",
    "#     pattern = re.compile(r'\\d+')\n",
    "#         for date in date_list \n",
    "        \n",
    "#             print(date_list)\n",
    "date_list\n",
    "        \n"
   ]
  },
  {
   "cell_type": "code",
   "execution_count": 167,
   "metadata": {
    "scrolled": true
   },
   "outputs": [
    {
     "name": "stdout",
     "output_type": "stream",
     "text": [
      "<callable_iterator object at 0x1050ab1c0>\n"
     ]
    }
   ],
   "source": [
    "#date = datetime.datetime.strptime(match.group(),'%d/%m/%y').date()\n",
    "\n",
    "pattern = re.compile(r'\\d{2,4}-\\d{2,4}-\\d{2,4}')\n",
    "\n",
    "\n",
    "find_dates = pattern.finditer(date_list)\n",
    "print(find_dates)"
   ]
  },
  {
   "cell_type": "code",
   "execution_count": 168,
   "metadata": {},
   "outputs": [],
   "source": [
    "from datetime import datetime"
   ]
  },
  {
   "cell_type": "code",
   "execution_count": 169,
   "metadata": {},
   "outputs": [
    {
     "name": "stdout",
     "output_type": "stream",
     "text": [
      "15/05/1990\n",
      "20/09/2015\n",
      "03/12/1985\n",
      "18/06/2010\n",
      "30/11/2002\n",
      "10/08/1978\n",
      "25/04/1992\n",
      "07/07/2019\n",
      "12/02/1980\n",
      "22/03/2005\n"
     ]
    }
   ],
   "source": [
    "for match in find_dates:\n",
    "    original_date = match.group()\n",
    "    datetime_object = datetime.strptime(original_date, \"%Y-%m-%d\")\n",
    "    updated_date = datetime.strftime(datetime_object, \"%d/%m/%Y\")\n",
    "\n",
    "    \n",
    "    print(f'{updated_date}')"
   ]
  },
  {
   "cell_type": "code",
   "execution_count": 129,
   "metadata": {},
   "outputs": [],
   "source": [
    "#from datetime import datetime\n",
    "dateL = []"
   ]
  },
  {
   "cell_type": "code",
   "execution_count": 140,
   "metadata": {},
   "outputs": [],
   "source": [
    "#from datetime import datetime\n",
    "\n",
    "# for match in find_dates:\n",
    "#     match.group().append(dateL)\n",
    "#     print(match.group())\n",
    "    #print(dateobject)\n",
    "    \n",
    "    \n",
    "#     date_object = datetime.strptime(dateobject, \"%d/%m/%Y\")\n",
    "#     print(date_object)"
   ]
  },
  {
   "cell_type": "code",
   "execution_count": 145,
   "metadata": {},
   "outputs": [
    {
     "name": "stdout",
     "output_type": "stream",
     "text": [
      "2010-06-18\n"
     ]
    },
    {
     "ename": "AttributeError",
     "evalue": "type object 'datetime.datetime' has no attribute 'strfime'",
     "output_type": "error",
     "traceback": [
      "\u001b[0;31m---------------------------------------------------------------------------\u001b[0m",
      "\u001b[0;31mAttributeError\u001b[0m                            Traceback (most recent call last)",
      "Cell \u001b[0;32mIn[145], line 4\u001b[0m\n\u001b[1;32m      2\u001b[0m \u001b[38;5;28mprint\u001b[39m(match\u001b[38;5;241m.\u001b[39mgroup())\n\u001b[1;32m      3\u001b[0m updates \u001b[38;5;241m=\u001b[39m match\u001b[38;5;241m.\u001b[39mgroup()\n\u001b[0;32m----> 4\u001b[0m updates \u001b[38;5;241m=\u001b[39m datetime\u001b[38;5;241m.\u001b[39mstrfime(updates, \u001b[38;5;124m\"\u001b[39m\u001b[38;5;132;01m%d\u001b[39;00m\u001b[38;5;124m/\u001b[39m\u001b[38;5;124m%\u001b[39m\u001b[38;5;124mm/\u001b[39m\u001b[38;5;124m%\u001b[39m\u001b[38;5;124mY\u001b[39m\u001b[38;5;124m\"\u001b[39m)\n",
      "\u001b[0;31mAttributeError\u001b[0m: type object 'datetime.datetime' has no attribute 'strfime'"
     ]
    }
   ],
   "source": [
    "with open('example.txt') as new_file:\n",
    "        \n",
    "    \n",
    "    date_list = new_file.read()\n",
    "date_list = = \"Daniel Martinez was born on 1990-05-15. He later married Elizabeth Anderson on 2015-09-20\"    \n",
    "pattern = re.compile(r'\\d{2,4}-\\d{2,4}-\\d{2,4}')\n",
    "\n",
    "\n",
    "find_dates = pattern.finditer(date_list)\n",
    "for match in find_dates:\n",
    "    print(match.group())\n",
    "#     updates = match.group()\n",
    "#     updates = datetime.strfime(updates, \"%d/%m/%Y\")\n",
    "    original_date = match.group()\n",
    "    datetime_object = datetime.strptime(original_date, \"%Y-%m-%d\")\n",
    "    updated_date = datetime.strftime(datetime_object, \"%d/%m/%Y\")\n",
    "\n",
    "\n",
    "\n",
    "\n",
    "\n",
    "\n"
   ]
  },
  {
   "cell_type": "code",
   "execution_count": 132,
   "metadata": {},
   "outputs": [],
   "source": [
    "date_list = \"Daniel Martinez was born on 1990-05-15. He later married Elizabeth Anderson on 2015-09-20\"\n",
    "find_dates = pattern.finditer(date_list)\n",
    "# pattern = re.compile(r'\\d{4}-\\d{2}-\\d{2}')\n",
    "\n",
    "# find_dates = pattern.finditer(date_list)\n",
    "\n",
    "# for match in find_dates:\n",
    "#     print(match.group())"
   ]
  },
  {
   "cell_type": "code",
   "execution_count": null,
   "metadata": {},
   "outputs": [],
   "source": []
  }
 ],
 "metadata": {
  "kernelspec": {
   "display_name": "Python 3 (ipykernel)",
   "language": "python",
   "name": "python3"
  },
  "language_info": {
   "codemirror_mode": {
    "name": "ipython",
    "version": 3
   },
   "file_extension": ".py",
   "mimetype": "text/x-python",
   "name": "python",
   "nbconvert_exporter": "python",
   "pygments_lexer": "ipython3",
   "version": "3.11.4"
  }
 },
 "nbformat": 4,
 "nbformat_minor": 4
}
